{
 "cells": [
  {
   "cell_type": "markdown",
   "id": "bbe3f931-7cb6-4d10-9e0b-0228c145a880",
   "metadata": {},
   "source": [
    "# Notebook for Homework 1 "
   ]
  },
  {
   "cell_type": "code",
   "execution_count": 230,
   "id": "68311919-5c07-4475-a3d3-ba70c850e06e",
   "metadata": {
    "tags": []
   },
   "outputs": [],
   "source": [
    "# Preliminary Codes -- DO NOT CHANGE ANYTHING IN THIS SECTION\n",
    "import random, pickle\n",
    "import numpy as np\n",
    "xData = [100*random.random() for i in range(20)]\n",
    "number = 5+random.randint(8,20)\n",
    "fruit = 'apples'\n",
    "day = 'Saturday'\n",
    "string_4 = 'An alacritous abalone accelerates along an alarming aquatic ascent.'\n",
    "string_5 = 'A                       large space was here.'\n",
    "string_6 = 'ATCGTGCATGCTGAGTGGCGAGCGGCGGCCGTACGCTGTTACTTAAAACGTAGCTGTAAAAAAC\\\n",
    "            GCTGCTGATGCTGTGCATGTGACTAGCTGCATGTGTGACTGACTGCTGACGTACTGTACGTACG\\\n",
    "            ATGGTTCGTGCGATGCGCTTGACGTGTCGTAGTGCATGCTGCTAGCTGATCGATGTGTCGAGTC'\n",
    "nDigits = 6\n",
    "nPower = 3\n",
    "List10 = ['apples','bananas','pears','pears','blueberries','apples','strawberries']\n",
    "Student_IDs = [1,2,3,4,5]\n",
    "Student_names = ['Jim','John','Jenna','Jamal','Jaden']\n",
    "List12 = [1,2,3,4,5,6,7,8]\n",
    "\n",
    "q1 = 'xxx'\n",
    "q2 = 'XXX'\n",
    "q3 = 'XXX'\n",
    "q4 = 123\n",
    "q5 = 'XXX'\n",
    "q6 = 123\n",
    "q7 = 'XXX'\n",
    "q8 = 1.23\n",
    "q8 = 'xxx'\n",
    "q9 = 'xxx'\n",
    "q10 = List10\n",
    "q11 = 'xxx'\n",
    "q12 = [1,2,3,4,5,6,7,8]\n",
    "\n",
    "fnDat = 'Hwk1Data.pkl'\n",
    "dataDict = {'xData':xData,'number':number,'fruit':fruit,'day':day,'string_4':string_4,\n",
    "    'string_5':string_5,'string_6':string_6,'nDigits':nDigits,'nPower':nPower,\n",
    "    'Student_IDs':Student_IDs,'Student_names':Student_names,'List10':List10,'List12':List12}\n",
    "with open(fnDat, 'wb') as file:\n",
    "    pickle.dump(dataDict, file)\n",
    "\n",
    "def saveResults():\n",
    "    fn = 'Hwk1Answers.pkl'\n",
    "    answerDict = {'q1':q1,'q2':q2,'q3':q3,'q4':q4,'q5':q5,'q6':q6,'q7':q7,'q8':q8,\n",
    "                 'q9':q9,'q10':q10,'q11':q11,'q12':q12}\n",
    "    with open(fn, 'wb') as file:\n",
    "        pickle.dump(answerDict, file)\n",
    "\n",
    "    #Read and print \n",
    "    with open(fn, 'rb') as file:\n",
    "        loaded_dict = pickle.load(file)\n",
    "    \n",
    "    print(\"Your answers so far are:\")\n",
    "    print(loaded_dict)"
   ]
  },
  {
   "cell_type": "markdown",
   "id": "ed37dd2e-0076-4b05-b594-4e28cda958bc",
   "metadata": {},
   "source": [
    "## Problem Set 1 - Basic Arithmetic and String Manipulation"
   ]
  },
  {
   "cell_type": "code",
   "execution_count": 231,
   "id": "eb36cae3-6344-428b-9d97-ebe35b743109",
   "metadata": {
    "tags": []
   },
   "outputs": [
    {
     "name": "stdout",
     "output_type": "stream",
     "text": [
      "Your answers so far are:\n",
      "{'q1': 'xxx', 'q2': 'XXX', 'q3': 'XXX', 'q4': 123, 'q5': 'XXX', 'q6': 123, 'q7': 'XXX', 'q8': 'xxx', 'q9': 'xxx', 'q10': ['apples', 'bananas', 'pears', 'pears', 'blueberries', 'apples', 'strawberries'], 'q11': 'xxx', 'q12': [1, 2, 3, 4, 5, 6, 7, 8]}\n"
     ]
    }
   ],
   "source": [
    "# Q1 - Concatenate the following strings with a space inbetween them (do not change the name).\n",
    "string_1 = 'Hello my name is'\n",
    "name = 'Name'\n",
    "q1 = 'xxx'\n",
    "\n",
    "saveResults()"
   ]
  },
  {
   "cell_type": "code",
   "execution_count": 232,
   "id": "7de00c80",
   "metadata": {},
   "outputs": [],
   "source": [
    "q1 = \" \".join ([string_1, name])"
   ]
  },
  {
   "cell_type": "code",
   "execution_count": 233,
   "id": "8f5fa2d5-598a-4244-a9ef-b0444bc67dc8",
   "metadata": {},
   "outputs": [
    {
     "name": "stdout",
     "output_type": "stream",
     "text": [
      "Your answers so far are:\n",
      "{'q1': 'Hello my name is Name', 'q2': 'xxx', 'q3': 'XXX', 'q4': 123, 'q5': 'XXX', 'q6': 123, 'q7': 'XXX', 'q8': 'xxx', 'q9': 'xxx', 'q10': ['apples', 'bananas', 'pears', 'pears', 'blueberries', 'apples', 'strawberries'], 'q11': 'xxx', 'q12': [1, 2, 3, 4, 5, 6, 7, 8]}\n"
     ]
    }
   ],
   "source": [
    "# Q2 = Convert the following string to uppercase\n",
    "string_2 = 'i would like to be uppercase'\n",
    "q2 = 'xxx'\n",
    "\n",
    "saveResults()"
   ]
  },
  {
   "cell_type": "code",
   "execution_count": 234,
   "id": "efef60a4",
   "metadata": {},
   "outputs": [],
   "source": [
    "q2 = string_2.upper()"
   ]
  },
  {
   "cell_type": "code",
   "execution_count": 235,
   "id": "d2f6938c-1036-4622-94c4-d03ed23ae5dd",
   "metadata": {
    "tags": []
   },
   "outputs": [
    {
     "name": "stdout",
     "output_type": "stream",
     "text": [
      "22\n",
      "apples\n",
      "Saturday\n",
      "Your answers so far are:\n",
      "{'q1': 'Hello my name is Name', 'q2': 'I WOULD LIKE TO BE UPPERCASE', 'q3': 'xxx', 'q4': 123, 'q5': 'XXX', 'q6': 123, 'q7': 'XXX', 'q8': 'xxx', 'q9': 'xxx', 'q10': ['apples', 'bananas', 'pears', 'pears', 'blueberries', 'apples', 'strawberries'], 'q11': 'xxx', 'q12': [1, 2, 3, 4, 5, 6, 7, 8]}\n"
     ]
    }
   ],
   "source": [
    "# Q3 - use string formatting to construct the following string: \n",
    "#. \"I bought [number] [fruit] on [day].\" where:\n",
    "#     [number] is replaced with the number value of the variable \"number\",\n",
    "#     [fruit] is replaced with the string value of the variable \"fruit\",\n",
    "#     [day] is replaced with the string value of the variable \"day\",\n",
    "print(number)\n",
    "print(fruit)\n",
    "print(day)\n",
    "q3 = 'xxx'\n",
    "\n",
    "saveResults()"
   ]
  },
  {
   "cell_type": "code",
   "execution_count": 236,
   "id": "29fba0b1",
   "metadata": {},
   "outputs": [],
   "source": [
    "q3 = \"I bought {number_fruits} {fruit_1} on {day_1}.\".format(number_fruits = number, fruit_1 = fruit, day_1 = day)"
   ]
  },
  {
   "cell_type": "code",
   "execution_count": 237,
   "id": "adc7baac-3d62-400e-8e5b-a66eb12e117e",
   "metadata": {
    "tags": []
   },
   "outputs": [
    {
     "name": "stdout",
     "output_type": "stream",
     "text": [
      "An alacritous abalone accelerates along an alarming aquatic ascent.\n",
      "Your answers so far are:\n",
      "{'q1': 'Hello my name is Name', 'q2': 'I WOULD LIKE TO BE UPPERCASE', 'q3': 'I bought 22 apples on Saturday.', 'q4': 123, 'q5': 'XXX', 'q6': 123, 'q7': 'XXX', 'q8': 'xxx', 'q9': 'xxx', 'q10': ['apples', 'bananas', 'pears', 'pears', 'blueberries', 'apples', 'strawberries'], 'q11': 'xxx', 'q12': [1, 2, 3, 4, 5, 6, 7, 8]}\n"
     ]
    }
   ],
   "source": [
    "# Q4 - count the number of a's in the string \"string_4\"\n",
    "print(string_4)\n",
    "q4 = 123\n",
    "\n",
    "saveResults()"
   ]
  },
  {
   "cell_type": "code",
   "execution_count": 238,
   "id": "8220e501",
   "metadata": {},
   "outputs": [],
   "source": [
    "q4 = string_4.count('a')"
   ]
  },
  {
   "cell_type": "code",
   "execution_count": 239,
   "id": "87dfc22b-0d94-4cc6-ab7c-cd484c67c919",
   "metadata": {
    "tags": []
   },
   "outputs": [
    {
     "name": "stdout",
     "output_type": "stream",
     "text": [
      "A                       large space was here.\n",
      "Your answers so far are:\n",
      "{'q1': 'Hello my name is Name', 'q2': 'I WOULD LIKE TO BE UPPERCASE', 'q3': 'I bought 22 apples on Saturday.', 'q4': 13, 'q5': 'xxx', 'q6': 123, 'q7': 'XXX', 'q8': 'xxx', 'q9': 'xxx', 'q10': ['apples', 'bananas', 'pears', 'pears', 'blueberries', 'apples', 'strawberries'], 'q11': 'xxx', 'q12': [1, 2, 3, 4, 5, 6, 7, 8]}\n"
     ]
    }
   ],
   "source": [
    "# Q5 - Strip \"string_5\" to remove all spaces and return the result as 'q5'\n",
    "print(string_5)\n",
    "q5 = 'xxx'\n",
    "\n",
    "saveResults()"
   ]
  },
  {
   "cell_type": "code",
   "execution_count": 240,
   "id": "ff799dc2",
   "metadata": {},
   "outputs": [],
   "source": [
    "q5 = string_5.replace(' ','')"
   ]
  },
  {
   "cell_type": "code",
   "execution_count": 241,
   "id": "57fe3ee3-f84f-4839-bed2-5ca82691a87c",
   "metadata": {
    "tags": []
   },
   "outputs": [
    {
     "name": "stdout",
     "output_type": "stream",
     "text": [
      "Your answers so far are:\n",
      "{'q1': 'Hello my name is Name', 'q2': 'I WOULD LIKE TO BE UPPERCASE', 'q3': 'I bought 22 apples on Saturday.', 'q4': 13, 'q5': 'Alargespacewashere.', 'q6': 123, 'q7': 'XXX', 'q8': 'xxx', 'q9': 'xxx', 'q10': ['apples', 'bananas', 'pears', 'pears', 'blueberries', 'apples', 'strawberries'], 'q11': 'xxx', 'q12': [1, 2, 3, 4, 5, 6, 7, 8]}\n"
     ]
    }
   ],
   "source": [
    "# Q6 - How long is the string \"string_6\"?\n",
    "q6 = 123\n",
    "\n",
    "saveResults()"
   ]
  },
  {
   "cell_type": "code",
   "execution_count": 242,
   "id": "37aee90d",
   "metadata": {},
   "outputs": [],
   "source": [
    "q6 = len(string_6)"
   ]
  },
  {
   "cell_type": "code",
   "execution_count": 243,
   "id": "5df84638-359e-4ce2-8e90-925c40614253",
   "metadata": {
    "tags": []
   },
   "outputs": [
    {
     "name": "stdout",
     "output_type": "stream",
     "text": [
      "3.141592653589793\n",
      "6\n",
      "3\n",
      "Your answers so far are:\n",
      "{'q1': 'Hello my name is Name', 'q2': 'I WOULD LIKE TO BE UPPERCASE', 'q3': 'I bought 22 apples on Saturday.', 'q4': 13, 'q5': 'Alargespacewashere.', 'q6': 216, 'q7': '1.23456', 'q8': 'xxx', 'q9': 'xxx', 'q10': ['apples', 'bananas', 'pears', 'pears', 'blueberries', 'apples', 'strawberries'], 'q11': 'xxx', 'q12': [1, 2, 3, 4, 5, 6, 7, 8]}\n"
     ]
    }
   ],
   "source": [
    "# Q7 - Write a STRING that contains the value of pi^[nPower]. \n",
    "# Use exponent form to the 3rd decimal point (e.g., 2.500e+00).\n",
    "pi = np.pi\n",
    "print(pi)\n",
    "print(nDigits)\n",
    "print(nPower)\n",
    "q7 = \"1.23456\"\n",
    "\n",
    "saveResults()"
   ]
  },
  {
   "cell_type": "code",
   "execution_count": 244,
   "id": "0622173a",
   "metadata": {},
   "outputs": [],
   "source": [
    "q7 = \"{:.3e}\".format(pi**nPower)"
   ]
  },
  {
   "cell_type": "markdown",
   "id": "d6565fd5-b535-4571-84e9-2ea7a0c0c6ed",
   "metadata": {
    "tags": []
   },
   "source": [
    "## Problem Set 2 - Iterables, Slicing, and Sets"
   ]
  },
  {
   "cell_type": "code",
   "execution_count": 245,
   "id": "478785c4-c27a-4e62-ab36-8695589b3291",
   "metadata": {
    "tags": []
   },
   "outputs": [
    {
     "name": "stdout",
     "output_type": "stream",
     "text": [
      "[59.57431088958265, 95.7604031462628, 12.96143770782534, 5.14880096297905, 32.731906750445624, 10.774441688527014, 94.04463316258281, 89.81196979026286, 37.07573734107049, 44.40926787968025, 6.670707030707712, 63.90110993707289, 84.74717566960098, 25.258366069593873, 52.32859298566148, 81.31505972444214, 92.68647095086727, 57.29888015717462, 8.816358722529571, 16.28810438498234]\n",
      "Your answers so far are:\n",
      "{'q1': 'Hello my name is Name', 'q2': 'I WOULD LIKE TO BE UPPERCASE', 'q3': 'I bought 22 apples on Saturday.', 'q4': 13, 'q5': 'Alargespacewashere.', 'q6': 216, 'q7': '3.101e+01', 'q8': 1.23, 'q9': 'xxx', 'q10': ['apples', 'bananas', 'pears', 'pears', 'blueberries', 'apples', 'strawberries'], 'q11': 'xxx', 'q12': [1, 2, 3, 4, 5, 6, 7, 8]}\n"
     ]
    }
   ],
   "source": [
    "# Q8 - Consider the numbers in the list \"xData\", and compute their average.\n",
    "print(xData)\n",
    "q8 = 1.23  # Change this to produce the average of the numbers in 'xData'\n",
    "\n",
    "saveResults()"
   ]
  },
  {
   "cell_type": "code",
   "execution_count": 246,
   "id": "b11ba5e2",
   "metadata": {},
   "outputs": [],
   "source": [
    "q8 = sum(xData)/len(xData) "
   ]
  },
  {
   "cell_type": "code",
   "execution_count": 247,
   "id": "52ccb85f-cbc6-46ab-ae0c-657d92d17cc1",
   "metadata": {
    "tags": []
   },
   "outputs": [
    {
     "name": "stdout",
     "output_type": "stream",
     "text": [
      "[59.57431088958265, 95.7604031462628, 12.96143770782534, 5.14880096297905, 32.731906750445624, 10.774441688527014, 94.04463316258281, 89.81196979026286, 37.07573734107049, 44.40926787968025, 6.670707030707712, 63.90110993707289, 84.74717566960098, 25.258366069593873, 52.32859298566148, 81.31505972444214, 92.68647095086727, 57.29888015717462, 8.816358722529571, 16.28810438498234]\n",
      "Your answers so far are:\n",
      "{'q1': 'Hello my name is Name', 'q2': 'I WOULD LIKE TO BE UPPERCASE', 'q3': 'I bought 22 apples on Saturday.', 'q4': 13, 'q5': 'Alargespacewashere.', 'q6': 216, 'q7': '3.101e+01', 'q8': 48.58018674759259, 'q9': 1.23, 'q10': ['apples', 'bananas', 'pears', 'pears', 'blueberries', 'apples', 'strawberries'], 'q11': 'xxx', 'q12': [1, 2, 3, 4, 5, 6, 7, 8]}\n"
     ]
    }
   ],
   "source": [
    "# Q9 - What's the last number in the list \"xData\".  Get this by slicing the list.\n",
    "print(xData)\n",
    "q9 = 1.23\n",
    "\n",
    "saveResults()"
   ]
  },
  {
   "cell_type": "code",
   "execution_count": 248,
   "id": "fed51a73",
   "metadata": {},
   "outputs": [],
   "source": [
    "q9 = xData[-1]"
   ]
  },
  {
   "cell_type": "code",
   "execution_count": 249,
   "id": "1bac04df-6fb1-4ee9-ac15-9a21d5dbf087",
   "metadata": {},
   "outputs": [
    {
     "name": "stdout",
     "output_type": "stream",
     "text": [
      "['apples', 'bananas', 'pears', 'pears', 'blueberries', 'apples', 'strawberries']\n",
      "Your answers so far are:\n",
      "{'q1': 'Hello my name is Name', 'q2': 'I WOULD LIKE TO BE UPPERCASE', 'q3': 'I bought 22 apples on Saturday.', 'q4': 13, 'q5': 'Alargespacewashere.', 'q6': 216, 'q7': '3.101e+01', 'q8': 48.58018674759259, 'q9': 16.28810438498234, 'q10': ['apples', 'bananas', 'pears', 'pears', 'blueberries', 'apples', 'strawberries'], 'q11': 'xxx', 'q12': [1, 2, 3, 4, 5, 6, 7, 8]}\n"
     ]
    }
   ],
   "source": [
    "# Q10 - Convert between lists and sets to remove duplicate entries from the list \"List10\"\n",
    "print(List10)\n",
    "q10 = List10\n",
    "\n",
    "saveResults()"
   ]
  },
  {
   "cell_type": "code",
   "execution_count": 250,
   "id": "a4acdfd0",
   "metadata": {},
   "outputs": [
    {
     "ename": "SyntaxError",
     "evalue": "invalid syntax (1563093603.py, line 1)",
     "output_type": "error",
     "traceback": [
      "\u001b[1;36m  Cell \u001b[1;32mIn[250], line 1\u001b[1;36m\u001b[0m\n\u001b[1;33m    q10 =\u001b[0m\n\u001b[1;37m          ^\u001b[0m\n\u001b[1;31mSyntaxError\u001b[0m\u001b[1;31m:\u001b[0m invalid syntax\n"
     ]
    }
   ],
   "source": [
    "q10 = "
   ]
  },
  {
   "cell_type": "code",
   "execution_count": null,
   "id": "84efaca0-7f30-4a5f-b973-054970681a64",
   "metadata": {},
   "outputs": [
    {
     "name": "stdout",
     "output_type": "stream",
     "text": [
      "[1, 2, 3, 4, 5]\n",
      "['Jim', 'John', 'Jenna', 'Jamal', 'Jaden']\n",
      "Your answers so far are:\n",
      "{'q1': 'Hello my name is Name', 'q2': 'I WOULD LIKE TO BE UPPERCASE', 'q3': 'I bought 13 apples on Saturday.', 'q4': 13, 'q5': 'Alargespacewashere.', 'q6': 216, 'q7': '3.101e+01', 'q8': 53.009218065980235, 'q9': 1.23, 'q10': ['apples', 'bananas', 'pears', 'pears', 'blueberries', 'apples', 'strawberries'], 'q11': 'xxx', 'q12': [1, 2, 3, 4, 5, 6, 7, 8]}\n"
     ]
    }
   ],
   "source": [
    "# Q11 - Combine the lists 'Student_IDs' and 'Student_names' into a dictionary keyed by the IDs. \n",
    "# i.e. Create a dictionary with pairs of { ID : student name }\n",
    "print(Student_IDs)\n",
    "print(Student_names)\n",
    "q11 = 'xxx'\n",
    "\n",
    "saveResults()"
   ]
  },
  {
   "cell_type": "code",
   "execution_count": null,
   "id": "13f4c066-44df-4b82-a78d-4dd2ff590f03",
   "metadata": {
    "tags": []
   },
   "outputs": [
    {
     "name": "stdout",
     "output_type": "stream",
     "text": [
      "[1, 2, 3, 4, 5, 6, 7, 8]\n",
      "Your answers so far are:\n",
      "{'q1': 'Hello my name is Name', 'q2': 'I WOULD LIKE TO BE UPPERCASE', 'q3': 'I bought 13 apples on Saturday.', 'q4': 13, 'q5': 'Alargespacewashere.', 'q6': 216, 'q7': '3.101e+01', 'q8': 53.009218065980235, 'q9': 1.23, 'q10': ['apples', 'bananas', 'pears', 'pears', 'blueberries', 'apples', 'strawberries'], 'q11': 'xxx', 'q12': 'xxx'}\n"
     ]
    }
   ],
   "source": [
    "# Q12 - Slice to get every other entry in the list 'List12'\n",
    "print(List12)\n",
    "q12 = 'xxx'\n",
    "\n",
    "saveResults()"
   ]
  }
 ],
 "metadata": {
  "kernelspec": {
   "display_name": "Python 3",
   "language": "python",
   "name": "python3"
  },
  "language_info": {
   "codemirror_mode": {
    "name": "ipython",
    "version": 3
   },
   "file_extension": ".py",
   "mimetype": "text/x-python",
   "name": "python",
   "nbconvert_exporter": "python",
   "pygments_lexer": "ipython3",
   "version": "3.10.14"
  }
 },
 "nbformat": 4,
 "nbformat_minor": 5
}
